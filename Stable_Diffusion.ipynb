{
  "cells": [
    {
      "cell_type": "code",
      "execution_count": null,
      "metadata": {
        "cellView": "form",
        "colab": {
          "base_uri": "https://localhost:8080/"
        },
        "id": "XU7NuMAA2drw",
        "outputId": "a65738eb-60f4-4f95-a6aa-64120e4cabc1"
      },
      "outputs": [
        {
          "name": "stdout",
          "output_type": "stream",
          "text": [
            "NVIDIA-SMI has failed because it couldn't communicate with the NVIDIA driver. Make sure that the latest NVIDIA driver is installed and running.\n",
            "\n"
          ]
        }
      ],
      "source": [
        "#@markdown <---  Нажми чтобы проверить тип GPU и доступную VRAM.\n",
        "!nvidia-smi --query-gpu=name,memory.total,memory.free --format=csv,noheader"
      ]
    },
    {
      "cell_type": "code",
      "execution_count": null,
      "metadata": {
        "id": "Rxg0y5MBudmd",
        "cellView": "form"
      },
      "outputs": [],
      "source": [
        "#@markdown Подключение Google диск\n",
        "from google.colab import drive\n",
        "drive.mount('/content/drive')"
      ]
    },
    {
      "cell_type": "code",
      "execution_count": null,
      "metadata": {
        "cellView": "form",
        "id": "zxtMUn07C4rf"
      },
      "outputs": [],
      "source": [
        "!git clone https://github.com/AUTOMATIC1111/stable-diffusion-webui /content/stable-diffusion-webui\n",
        "%cd /content/stable-diffusion-webui\n",
        "model_name = \"epic-diffusion.safetensors\" #@param {type:\"string\"}\n",
        "model_link = \"https://huggingface.co/johnslegers/epic-diffusion-v1.1/resolve/main/epic-diffusion.safetensors\" #@param {type:\"string\"}\n",
        "!wget {model_link} -O models/Stable-diffusion/{model_name}\n",
        "#!cp /content/drive/MyDrive/SD/shuman/2900/shuman.ckpt /content/stable-diffusion-webui/models/Stable-diffusion/shuman.ckpt\n",
        "!COMMANDLINE_ARGS=\"--exit\" REQS_FILE=\"requirements.txt\" python launch.py\n",
        "%cd /content/stable-diffusion-webui\n",
        "!git pull"
      ]
    },
    {
      "cell_type": "code",
      "execution_count": null,
      "metadata": {
        "cellView": "form",
        "id": "zo8jppZiI-qd"
      },
      "outputs": [],
      "source": [
        "#@markdown Дополнения скачивать пожеланию, перед скачиванием проверти код и обновите модели если вышли новые\n",
        "#!git clone https://github.com/deforum-art/deforum-for-automatic1111-webui /content/stable-diffusion-webui/extensions/deforum\n",
        "#!git clone https://github.com/s9roll7/ebsynth_utility /content/stable-diffusion-webui/extensions/ebsynth_utility\n",
        "#!git clone https://github.com/Mikubill/sd-webui-controlnet /content/stable-diffusion-webui/extensions/sd-webui-controlnet\n",
        "#!git clone https://github.com/toshiaki1729/stable-diffusion-webui-text2prompt.git /content/stable-diffusion-webui/extensions/text2prompt\n",
        "!git clone  https://github.com/AUTOMATIC1111/stable-diffusion-webui-promptgen.git /content/stable-diffusion-webui/extensions/promptgen\n",
        "\n",
        "#wget https://huggingface.co/lllyasviel/ControlNet/resolve/main/models/control_sd15_canny.pth -O /content/stable-diffusion-webui/extensions/sd-webui-controlnet/models/control_sd15_canny.pth\n",
        "#!wget https://huggingface.co/lllyasviel/ControlNet/resolve/main/models/control_sd15_depth.pth -O /content/stable-diffusion-webui/extensions/sd-webui-controlnet/models/control_sd15_depth.pth\n",
        "#!wget https://huggingface.co/lllyasviel/ControlNet/resolve/main/models/control_sd15_hed.pth -O /content/stable-diffusion-webui/extensions/sd-webui-controlnet/models/control_sd15_hed.pth\n",
        "#!wget https://huggingface.co/lllyasviel/ControlNet/resolve/main/models/control_sd15_mlsd.pth -O /content/stable-diffusion-webui/extensions/sd-webui-controlnet/models/control_sd15_mlsd.pth\n",
        "#!wget https://huggingface.co/lllyasviel/ControlNet/resolve/main/models/control_sd15_normal.pth -O /content/stable-diffusion-webui/extensions/sd-webui-controlnet/models/control_sd15_normal.pth\n",
        "#!wget https://huggingface.co/lllyasviel/ControlNet/resolve/main/models/control_sd15_openpose.pth -O /content/stable-diffusion-webui/extensions/sd-webui-controlnet/models/control_sd15_openpose.pth\n",
        "#!wget https://huggingface.co/lllyasviel/ControlNet/resolve/main/models/control_sd15_scribble.pth -O /content/stable-diffusion-webui/extensions/sd-webui-controlnet/models/control_sd15_scribble.pth\n",
        "#!wget https://huggingface.co/lllyasviel/ControlNet/resolve/main/models/control_sd15_seg.pth -O /content/stable-diffusion-webui/extensions/sd-webui-controlnet/models/control_sd15_seg.pth\n"
      ]
    },
    {
      "cell_type": "code",
      "execution_count": null,
      "metadata": {
        "id": "oB1G1mpsDTfe"
      },
      "outputs": [],
      "source": [
        "!COMMANDLINE_ARGS=\"--share --gradio-debug\" REQS_FILE=\"requirements.txt\" python launch.py"
      ]
    }
  ],
  "metadata": {
    "accelerator": "GPU",
    "colab": {
      "provenance": []
    },
    "gpuClass": "standard",
    "kernelspec": {
      "display_name": "Python 3 (ipykernel)",
      "language": "python",
      "name": "python3"
    },
    "language_info": {
      "codemirror_mode": {
        "name": "ipython",
        "version": 3
      },
      "file_extension": ".py",
      "mimetype": "text/x-python",
      "name": "python",
      "nbconvert_exporter": "python",
      "pygments_lexer": "ipython3",
      "version": "3.10.7"
    },
    "vscode": {
      "interpreter": {
        "hash": "e7370f93d1d0cde622a1f8e1c04877d8463912d04d973331ad4851f04de6915a"
      }
    }
  },
  "nbformat": 4,
  "nbformat_minor": 0
}